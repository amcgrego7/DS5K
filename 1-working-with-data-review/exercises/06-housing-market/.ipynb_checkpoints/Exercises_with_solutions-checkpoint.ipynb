{
 "cells": [
  {
   "cell_type": "markdown",
   "metadata": {},
   "source": [
    "# Housing Market"
   ]
  },
  {
   "cell_type": "markdown",
   "metadata": {},
   "source": [
    "### Introduction:\n",
    "\n",
    "This time we will create our own dataset with fictional numbers to describe a house market. As we are going to create random data don't try to reason of the numbers.\n",
    "\n",
    "### Step 1. Import the necessary libraries"
   ]
  },
  {
   "cell_type": "code",
   "execution_count": 2,
   "metadata": {
    "collapsed": true
   },
   "outputs": [],
   "source": [
    "import pandas as pd\n",
    "import numpy as np"
   ]
  },
  {
   "cell_type": "markdown",
   "metadata": {},
   "source": [
    "### Step 2. Create 3 differents Series, each of length 100, as follows: \n",
    "1. The first a random number from 1 to 4 \n",
    "2. The second a random number from 1 to 3\n",
    "3. The third a random number from 10,000 to 30,000"
   ]
  },
  {
   "cell_type": "code",
   "execution_count": 3,
   "metadata": {},
   "outputs": [
    {
     "data": {
      "text/plain": [
       "(0     1\n",
       " 1     4\n",
       " 2     4\n",
       " 3     4\n",
       " 4     1\n",
       " 5     1\n",
       " 6     2\n",
       " 7     1\n",
       " 8     2\n",
       " 9     1\n",
       " 10    1\n",
       " 11    4\n",
       " 12    3\n",
       " 13    3\n",
       " 14    3\n",
       " 15    3\n",
       " 16    2\n",
       " 17    1\n",
       " 18    4\n",
       " 19    3\n",
       " 20    1\n",
       " 21    1\n",
       " 22    2\n",
       " 23    3\n",
       " 24    3\n",
       " 25    3\n",
       " 26    1\n",
       " 27    4\n",
       " 28    3\n",
       " 29    4\n",
       "      ..\n",
       " 70    3\n",
       " 71    4\n",
       " 72    1\n",
       " 73    4\n",
       " 74    3\n",
       " 75    2\n",
       " 76    1\n",
       " 77    3\n",
       " 78    2\n",
       " 79    4\n",
       " 80    2\n",
       " 81    4\n",
       " 82    1\n",
       " 83    4\n",
       " 84    4\n",
       " 85    4\n",
       " 86    1\n",
       " 87    2\n",
       " 88    1\n",
       " 89    3\n",
       " 90    4\n",
       " 91    1\n",
       " 92    2\n",
       " 93    1\n",
       " 94    2\n",
       " 95    1\n",
       " 96    2\n",
       " 97    2\n",
       " 98    3\n",
       " 99    3\n",
       " dtype: int32, 0     3\n",
       " 1     3\n",
       " 2     3\n",
       " 3     3\n",
       " 4     3\n",
       " 5     1\n",
       " 6     2\n",
       " 7     2\n",
       " 8     2\n",
       " 9     2\n",
       " 10    3\n",
       " 11    3\n",
       " 12    3\n",
       " 13    3\n",
       " 14    3\n",
       " 15    3\n",
       " 16    2\n",
       " 17    1\n",
       " 18    2\n",
       " 19    1\n",
       " 20    1\n",
       " 21    3\n",
       " 22    1\n",
       " 23    2\n",
       " 24    2\n",
       " 25    3\n",
       " 26    3\n",
       " 27    1\n",
       " 28    3\n",
       " 29    2\n",
       "      ..\n",
       " 70    3\n",
       " 71    3\n",
       " 72    3\n",
       " 73    3\n",
       " 74    1\n",
       " 75    3\n",
       " 76    2\n",
       " 77    2\n",
       " 78    2\n",
       " 79    3\n",
       " 80    2\n",
       " 81    3\n",
       " 82    1\n",
       " 83    1\n",
       " 84    2\n",
       " 85    1\n",
       " 86    2\n",
       " 87    3\n",
       " 88    1\n",
       " 89    3\n",
       " 90    1\n",
       " 91    1\n",
       " 92    2\n",
       " 93    3\n",
       " 94    1\n",
       " 95    2\n",
       " 96    1\n",
       " 97    3\n",
       " 98    3\n",
       " 99    1\n",
       " dtype: int32, 0     24481\n",
       " 1     21842\n",
       " 2     20294\n",
       " 3     24579\n",
       " 4     23821\n",
       " 5     26303\n",
       " 6     12987\n",
       " 7     29593\n",
       " 8     23420\n",
       " 9     19729\n",
       " 10    14878\n",
       " 11    13686\n",
       " 12    28247\n",
       " 13    12414\n",
       " 14    12158\n",
       " 15    11817\n",
       " 16    27409\n",
       " 17    22899\n",
       " 18    17599\n",
       " 19    13059\n",
       " 20    27664\n",
       " 21    13155\n",
       " 22    25084\n",
       " 23    14831\n",
       " 24    15930\n",
       " 25    28762\n",
       " 26    18825\n",
       " 27    12072\n",
       " 28    11888\n",
       " 29    25898\n",
       "       ...  \n",
       " 70    12623\n",
       " 71    17312\n",
       " 72    21795\n",
       " 73    15781\n",
       " 74    23365\n",
       " 75    11244\n",
       " 76    20847\n",
       " 77    27578\n",
       " 78    15583\n",
       " 79    20981\n",
       " 80    27278\n",
       " 81    25984\n",
       " 82    25780\n",
       " 83    10066\n",
       " 84    19512\n",
       " 85    29676\n",
       " 86    17729\n",
       " 87    11142\n",
       " 88    10793\n",
       " 89    26013\n",
       " 90    27832\n",
       " 91    14052\n",
       " 92    16621\n",
       " 93    28040\n",
       " 94    11721\n",
       " 95    17566\n",
       " 96    25145\n",
       " 97    15907\n",
       " 98    15034\n",
       " 99    11782\n",
       " dtype: int32)"
      ]
     },
     "execution_count": 3,
     "metadata": {},
     "output_type": "execute_result"
    }
   ],
   "source": [
    "s1 = pd.Series(np.random.randint(1, high=5, size=100, dtype='l'))\n",
    "s2 = pd.Series(np.random.randint(1, high=4, size=100, dtype='l'))\n",
    "s3 = pd.Series(np.random.randint(10000, high=30001, size=100, dtype='l'))\n",
    "\n",
    "s1, s2, s3"
   ]
  },
  {
   "cell_type": "markdown",
   "metadata": {},
   "source": [
    "### Step 3. Let's create a DataFrame by joinning the Series by column"
   ]
  },
  {
   "cell_type": "code",
   "execution_count": 4,
   "metadata": {},
   "outputs": [
    {
     "data": {
      "text/html": [
       "<div>\n",
       "<table border=\"1\" class=\"dataframe\">\n",
       "  <thead>\n",
       "    <tr style=\"text-align: right;\">\n",
       "      <th></th>\n",
       "      <th>0</th>\n",
       "      <th>1</th>\n",
       "      <th>2</th>\n",
       "    </tr>\n",
       "  </thead>\n",
       "  <tbody>\n",
       "    <tr>\n",
       "      <th>0</th>\n",
       "      <td>1</td>\n",
       "      <td>3</td>\n",
       "      <td>24481</td>\n",
       "    </tr>\n",
       "    <tr>\n",
       "      <th>1</th>\n",
       "      <td>4</td>\n",
       "      <td>3</td>\n",
       "      <td>21842</td>\n",
       "    </tr>\n",
       "    <tr>\n",
       "      <th>2</th>\n",
       "      <td>4</td>\n",
       "      <td>3</td>\n",
       "      <td>20294</td>\n",
       "    </tr>\n",
       "    <tr>\n",
       "      <th>3</th>\n",
       "      <td>4</td>\n",
       "      <td>3</td>\n",
       "      <td>24579</td>\n",
       "    </tr>\n",
       "    <tr>\n",
       "      <th>4</th>\n",
       "      <td>1</td>\n",
       "      <td>3</td>\n",
       "      <td>23821</td>\n",
       "    </tr>\n",
       "  </tbody>\n",
       "</table>\n",
       "</div>"
      ],
      "text/plain": [
       "   0  1      2\n",
       "0  1  3  24481\n",
       "1  4  3  21842\n",
       "2  4  3  20294\n",
       "3  4  3  24579\n",
       "4  1  3  23821"
      ]
     },
     "execution_count": 4,
     "metadata": {},
     "output_type": "execute_result"
    }
   ],
   "source": [
    "housemkt = pd.concat([s1, s2, s3], axis=1)\n",
    "housemkt.head()"
   ]
  },
  {
   "cell_type": "markdown",
   "metadata": {},
   "source": [
    "### Step 4. Change the name of the columns to bedrs, bathrs, price_sqr_meter"
   ]
  },
  {
   "cell_type": "code",
   "execution_count": 5,
   "metadata": {},
   "outputs": [
    {
     "data": {
      "text/html": [
       "<div>\n",
       "<table border=\"1\" class=\"dataframe\">\n",
       "  <thead>\n",
       "    <tr style=\"text-align: right;\">\n",
       "      <th></th>\n",
       "      <th>bedrs</th>\n",
       "      <th>bathrs</th>\n",
       "      <th>price_sqr_meter</th>\n",
       "    </tr>\n",
       "  </thead>\n",
       "  <tbody>\n",
       "    <tr>\n",
       "      <th>0</th>\n",
       "      <td>1</td>\n",
       "      <td>3</td>\n",
       "      <td>24481</td>\n",
       "    </tr>\n",
       "    <tr>\n",
       "      <th>1</th>\n",
       "      <td>4</td>\n",
       "      <td>3</td>\n",
       "      <td>21842</td>\n",
       "    </tr>\n",
       "    <tr>\n",
       "      <th>2</th>\n",
       "      <td>4</td>\n",
       "      <td>3</td>\n",
       "      <td>20294</td>\n",
       "    </tr>\n",
       "    <tr>\n",
       "      <th>3</th>\n",
       "      <td>4</td>\n",
       "      <td>3</td>\n",
       "      <td>24579</td>\n",
       "    </tr>\n",
       "    <tr>\n",
       "      <th>4</th>\n",
       "      <td>1</td>\n",
       "      <td>3</td>\n",
       "      <td>23821</td>\n",
       "    </tr>\n",
       "  </tbody>\n",
       "</table>\n",
       "</div>"
      ],
      "text/plain": [
       "   bedrs  bathrs  price_sqr_meter\n",
       "0      1       3            24481\n",
       "1      4       3            21842\n",
       "2      4       3            20294\n",
       "3      4       3            24579\n",
       "4      1       3            23821"
      ]
     },
     "execution_count": 5,
     "metadata": {},
     "output_type": "execute_result"
    }
   ],
   "source": [
    "housemkt.rename(columns = {0: 'bedrs', 1: 'bathrs', 2: 'price_sqr_meter'}, inplace=True)\n",
    "housemkt.head()"
   ]
  },
  {
   "cell_type": "markdown",
   "metadata": {},
   "source": [
    "### Step 5. Create a one column DataFrame with the values of the 3 Series and assign it to 'bigcolumn'"
   ]
  },
  {
   "cell_type": "code",
   "execution_count": 6,
   "metadata": {},
   "outputs": [
    {
     "data": {
      "text/plain": [
       "pandas.core.frame.DataFrame"
      ]
     },
     "execution_count": 6,
     "metadata": {},
     "output_type": "execute_result"
    }
   ],
   "source": [
    "# join concat the values\n",
    "bigcolumn = pd.concat([s1, s2, s3], axis=0)\n",
    "\n",
    "# it is still a Series, so we need to transform it to a DataFrame\n",
    "bigcolumn = bigcolumn.to_frame()\n",
    "type(bigcolumn)"
   ]
  },
  {
   "cell_type": "code",
   "execution_count": 10,
   "metadata": {},
   "outputs": [
    {
     "data": {
      "text/plain": [
       "Int64Index([ 0,  1,  2,  3,  4,  5,  6,  7,  8,  9,\n",
       "            ...\n",
       "            90, 91, 92, 93, 94, 95, 96, 97, 98, 99],\n",
       "           dtype='int64', length=300)"
      ]
     },
     "execution_count": 10,
     "metadata": {},
     "output_type": "execute_result"
    }
   ],
   "source": [
    "bigcolumn.index"
   ]
  },
  {
   "cell_type": "markdown",
   "metadata": {},
   "source": [
    "### Step 6. Ops it seems it is going only until index 99. Is it true?"
   ]
  },
  {
   "cell_type": "code",
   "execution_count": null,
   "metadata": {
    "collapsed": true
   },
   "outputs": [],
   "source": [
    "# no the index are kept but the length of the DataFrame is 300\n",
    "len(bigcolumn)"
   ]
  },
  {
   "cell_type": "markdown",
   "metadata": {},
   "source": [
    "### Step 7. Reindex the DataFrame so it goes from 0 to 299"
   ]
  },
  {
   "cell_type": "code",
   "execution_count": null,
   "metadata": {
    "collapsed": true
   },
   "outputs": [],
   "source": [
    "bigcolumn.reset_index(drop=True, inplace=True)\n",
    "bigcolumn"
   ]
  }
 ],
 "metadata": {
  "kernelspec": {
   "display_name": "Python 3",
   "language": "python",
   "name": "python3"
  },
  "language_info": {
   "codemirror_mode": {
    "name": "ipython",
    "version": 3
   },
   "file_extension": ".py",
   "mimetype": "text/x-python",
   "name": "python",
   "nbconvert_exporter": "python",
   "pygments_lexer": "ipython3",
   "version": "3.6.0"
  }
 },
 "nbformat": 4,
 "nbformat_minor": 1
}
